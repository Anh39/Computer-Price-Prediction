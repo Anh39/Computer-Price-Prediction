{
 "cells": [
  {
   "cell_type": "code",
   "execution_count": 1,
   "metadata": {},
   "outputs": [],
   "source": [
    "import numpy as np\n",
    "import pandas as pd\n",
    "import matplotlib.pyplot as plt\n",
    "from sklearn.preprocessing import LabelEncoder, OneHotEncoder, StandardScaler, MinMaxScaler\n",
    "from sklearn.feature_extraction.text import TfidfVectorizer\n",
    "from sklearn.model_selection import train_test_split, RandomizedSearchCV,cross_val_score\n",
    "from sklearn.ensemble import RandomForestClassifier, RandomForestRegressor, GradientBoostingRegressor, AdaBoostRegressor\n",
    "from sklearn.linear_model import LinearRegression, Lasso, Ridge, ElasticNet\n",
    "from sklearn.tree import DecisionTreeRegressor\n",
    "from sklearn.svm import SVR\n",
    "from sklearn.neighbors import KNeighborsRegressor\n",
    "from sklearn.metrics import accuracy_score, mean_squared_error, mean_absolute_error, r2_score\n",
    "# import tensorflow as tf\n",
    "# from tensorflow.keras import layers, regularizers, callbacks\n",
    "import xgboost as xgb\n",
    "import lightgbm as lgb\n",
    "import catboost as cb\n",
    "import warnings \n",
    "warnings.filterwarnings(\"ignore\")"
   ]
  },
  {
   "cell_type": "code",
   "execution_count": 2,
   "metadata": {},
   "outputs": [],
   "source": [
    "loaded_df = pd.read_csv(\"../Output/Data/processed_data.csv\")\n",
    "loaded_df.head(1)\n",
    "loaded_df['Price'] = loaded_df['Price'] / 1000000 #/ 25500 # chuyển sang đô la\n",
    "loaded_df = loaded_df.drop(columns=['CPU Name','GPU Name','Storage Type'])\n",
    "loaded_df = loaded_df.sample(frac=1,random_state=42).reset_index(drop=True)\n",
    "split_index = int(len(loaded_df)*0.85)\n",
    "train_val_df = loaded_df.iloc[:split_index]\n",
    "test_df = loaded_df.iloc[split_index:]\n",
    "X_test = test_df.drop('Price', axis=1)\n",
    "y_test = test_df['Price']"
   ]
  },
  {
   "cell_type": "code",
   "execution_count": 22,
   "metadata": {},
   "outputs": [],
   "source": [
    "def grid_search_polynomial(pow : float = 2,cross_val : bool = True,random_state : int = 42):\n",
    "    cols = train_val_df.columns\n",
    "    result = {}\n",
    "    def inner_grid_search(df_):\n",
    "        X_ = df_.drop('Price', axis=1)\n",
    "        y_ = df_['Price']\n",
    "        X_train, X_val, y_train, y_val = train_test_split(X_, y_, test_size=0.2, random_state=random_state)\n",
    "        model = LinearRegression()\n",
    "        model.fit(X_train, y_train)\n",
    "        y_pred = model.predict(X_val)\n",
    "        mse = mean_squared_error(y_val, y_val)\n",
    "        r2 = r2_score(y_val,y_pred)\n",
    "        mae = mean_absolute_error(y_val, y_val)\n",
    "        inner_result = [r2,mae,mse]\n",
    "        return inner_result\n",
    "    def inner_grid_search_cross_val(df_):\n",
    "        X_ = df_.drop('Price', axis=1)\n",
    "        y_ = df_['Price']\n",
    "        model = LinearRegression()\n",
    "        mse = -cross_val_score(model,X_,y_,cv=5,scoring='neg_mean_squared_error').mean()\n",
    "        r2 = cross_val_score(model,X_,y_,cv=5,scoring='r2').mean()\n",
    "        mae = -cross_val_score(model,X_,y_,cv=5,scoring='neg_mean_absolute_error').mean()\n",
    "        inner_result = [r2,mae,mse]\n",
    "        return inner_result\n",
    "    for col in cols:\n",
    "        df = train_val_df.copy()\n",
    "        df[col+' S'] = df[col] ** pow\n",
    "        if (cross_val == True):\n",
    "            result[col] = inner_grid_search_cross_val(df)\n",
    "        else:\n",
    "            result[col] = inner_grid_search(df)\n",
    "    result['Base'] = inner_grid_search_cross_val(train_val_df.copy())\n",
    "    return result"
   ]
  },
  {
   "cell_type": "code",
   "execution_count": null,
   "metadata": {},
   "outputs": [],
   "source": [
    "def grid_search_product(cross_val : bool = True,random_sate : int = 42):\n",
    "    cols = raw_df.columns\n",
    "    result = {}\n",
    "    def inner_grid_search(df_):\n",
    "        X_ = df_.drop('Price', axis=1)\n",
    "        y_ = df_['Price']\n",
    "        X_train, X_test, y_train, y_test = train_test_split(X_, y_, test_size=0.2, random_state=random_sate)\n",
    "        model = LinearRegression()\n",
    "        model.fit(X_train, y_train)\n",
    "        y_pred = model.predict(X_test)\n",
    "        mse = mean_squared_error(y_test, y_pred)\n",
    "        r2 = r2_score(y_test,y_pred)\n",
    "        mae = mean_absolute_error(y_test, y_pred)\n",
    "        inner_result = [r2,mae,mse]\n",
    "        return inner_result\n",
    "    def inner_grid_search_cross_val(df_):\n",
    "        X_ = df_.drop('Price', axis=1)\n",
    "        y_ = df_['Price']\n",
    "        model = LinearRegression()\n",
    "        mse = -cross_val_score(model,X_,y_,cv=5,scoring='neg_mean_squared_error').mean()\n",
    "        r2 = cross_val_score(model,X_,y_,cv=5,scoring='r2').mean()\n",
    "        mae = -cross_val_score(model,X_,y_,cv=5,scoring='neg_mean_absolute_error').mean()\n",
    "        inner_result = [r2,mae,mse]\n",
    "        return inner_result\n",
    "    for i in range(len(cols)):\n",
    "        for j in range(i+1,len(cols)):\n",
    "            df = raw_df.copy()\n",
    "            df['Product Column'] = df[cols[i]] * df[cols[j]]\n",
    "            if (cross_val == True):\n",
    "                result[cols[i] + '|' + cols[j]] = inner_grid_search_cross_val(df)\n",
    "            else:\n",
    "                result[cols[i] + '|' + cols[j]] = inner_grid_search(df)\n",
    "    result['Base'] = inner_grid_search_cross_val(raw_df.copy())\n",
    "    return result"
   ]
  },
  {
   "cell_type": "code",
   "execution_count": 13,
   "metadata": {},
   "outputs": [],
   "source": [
    "def format_result(result_ : dict):\n",
    "    base = result_['Base']\n",
    "    for key in result_:\n",
    "        if (key != 'Base'):\n",
    "            for i in range(len(result_[key])):\n",
    "                result_[key][i] -= base[i]\n",
    "def sorted_print(result_ : dict):\n",
    "    local_result = result_.copy()\n",
    "    while(len(local_result) > 0):\n",
    "        max = -1\n",
    "        max_key = None\n",
    "        for key in local_result:\n",
    "            if (local_result[key][0] > max):\n",
    "                max = local_result[key][0]\n",
    "                max_key = key\n",
    "        print(local_result[max_key],max_key)\n",
    "        local_result.pop(max_key)\n"
   ]
  },
  {
   "cell_type": "code",
   "execution_count": 23,
   "metadata": {},
   "outputs": [
    {
     "name": "stdout",
     "output_type": "stream",
     "text": [
      "[0.7689934027938298, 7.094943824387819, 114.96112662181508] Base\n",
      "[0.19156261376523276, -7.094943824387819, -114.96112662181508] Price\n",
      "[0.0592992363377306, -7.094943824387819, -114.96112662181508] CPU Lithography\n",
      "[0.059275658353095895, -7.094943824387819, -114.96112662181508] RAM\n",
      "[0.05849049103012838, -7.094943824387819, -114.96112662181508] Memory Type\n",
      "[0.05823958152399755, -7.094943824387819, -114.96112662181508] CPU Max Clock\n",
      "[0.05823877812134237, -7.094943824387819, -114.96112662181508] GPU NVIDIA\n",
      "[0.05823877812134148, -7.094943824387819, -114.96112662181508] Display Type\n",
      "[0.05823877812134115, -7.094943824387819, -114.96112662181508] GPU Onboard\n",
      "[0.05823877812134115, -7.094943824387819, -114.96112662181508] GPU AMD\n",
      "[0.05823877812134104, -7.094943824387819, -114.96112662181508] Max DDR Support\n",
      "[0.05823877812134093, -7.094943824387819, -114.96112662181508] CPU Intel\n",
      "[0.05823877812134093, -7.094943824387819, -114.96112662181508] OS\n",
      "[0.05819637861091187, -7.094943824387819, -114.96112662181508] CPU Cache\n",
      "[0.058163823836358985, -7.094943824387819, -114.96112662181508] CPU Base Clock\n",
      "[0.05681311061611605, -7.094943824387819, -114.96112662181508] Display Frequency\n",
      "[0.056377163022718, -7.094943824387819, -114.96112662181508] Display Height\n",
      "[0.056004901096425974, -7.094943824387819, -114.96112662181508] Display Width\n",
      "[0.05600103027872794, -7.094943824387819, -114.96112662181508] Storage\n",
      "[0.05459893820930761, -7.094943824387819, -114.96112662181508] CPU Series\n",
      "[0.05407451059508461, -7.094943824387819, -114.96112662181508] GPU VRAM\n",
      "[0.049654463929680204, -7.094943824387819, -114.96112662181508] Warrant\n",
      "[0.04832047988437471, -7.094943824387819, -114.96112662181508] Display Size\n",
      "[0.04748081401528681, -7.094943824387819, -114.96112662181508] CPU Core\n",
      "[0.0473957144898739, -7.094943824387819, -114.96112662181508] CPU Thread\n"
     ]
    }
   ],
   "source": [
    "result = grid_search_polynomial(cross_val=False)\n",
    "format_result(result)\n",
    "sorted_print(result)\n",
    "# for col in result:\n",
    "#     print(result[col],col)"
   ]
  },
  {
   "cell_type": "code",
   "execution_count": null,
   "metadata": {},
   "outputs": [],
   "source": [
    "raw_df.info()"
   ]
  },
  {
   "cell_type": "code",
   "execution_count": null,
   "metadata": {},
   "outputs": [],
   "source": [
    "correlation_matrix = raw_df.corr()\n",
    "# print(correlation_matrix)"
   ]
  },
  {
   "cell_type": "code",
   "execution_count": null,
   "metadata": {},
   "outputs": [],
   "source": [
    "# Plot the correlation matrix\n",
    "plt.figure(figsize=(16, 16),dpi=320)\n",
    "plt.matshow(correlation_matrix, cmap='coolwarm', fignum=1)\n",
    "plt.colorbar()\n",
    "\n",
    "# Set axis labels\n",
    "plt.xticks(range(len(correlation_matrix.columns)), correlation_matrix.columns, rotation=90)\n",
    "plt.yticks(range(len(correlation_matrix.columns)), correlation_matrix.columns)\n",
    "for i in range(len(correlation_matrix.columns)):\n",
    "    for j in range(len(correlation_matrix.columns)):\n",
    "        plt.text(i, j, f\"{correlation_matrix.iloc[i, j]:.2f}\", ha='center', va='center', color='black')\n",
    "# Show plot\n",
    "plt.show()"
   ]
  },
  {
   "cell_type": "code",
   "execution_count": 34,
   "metadata": {},
   "outputs": [],
   "source": [
    "df = train_val_df.copy()\n",
    "# df['Display Resolution'] = raw_df['Display Height'] * raw_df['Display Width']\n",
    "# df['Display Ratio'] = raw_df['Display Size'] / raw_df['Display Resolution']\n",
    "# df = df.drop(columns=['Display Height','Display Width'])\n",
    "df['GPU VRAM S'] = df['GPU VRAM']**2\n",
    "# df['Warrant S'] = df['Warrant']**2\n",
    "\n",
    "# df['Display Width 2'] = df['Display Width']**2\n",
    "# df['Display Height 2'] = df['Display Height']**2\n",
    "# df['Display Size'] = 1/df['Display Size']\n",
    "# df['Product 1'] = df['RAM'] * df['Display Size']\n",
    "# df['Product 2'] = df['RAM'] * df['GPU VRAM']\n",
    "# df['Product 3'] = df['RAM'] * df['CPU Thread']\n",
    "# df['Product 4'] = df['RAM'] * df['CPU Core']\n",
    "# df['Product 5'] = df['RAM'] * df['CPU Cache']\n",
    "# df['Product 6'] = df['RAM'] * df['CPU Base Clock']\n",
    "# df['Product 7'] = df['RAM'] * df['CPU Max Clock']\n",
    "# df['Product 8'] = df['RAM'] * df['Base Power']\n",
    "# df['Product 9'] = df['RAM'] * df['Max Power']\n",
    "# df['Storage Ratio'] = df['Storage'] / df['RAM']\n",
    "# df['CPU Effecient'] = df['Base Power'] / df['CPU Core']\n",
    "# df['CPU Max Effecient'] = df['Base Power'] / df['CPU Core']\n",
    "# df['Display Frequency'] = df['Display Frequency']**2\n",
    "# df = df.drop(columns=['Display Size'])\n",
    "test_df = loaded_df[split_index:]\n",
    "test_df['GPU VRAM S'] = test_df['GPU VRAM']**2\n",
    "# test_df['Warrant S'] = test_df['Warrant']**2\n",
    "# test_df['Product 1'] = test_df['RAM'] * test_df['Display Size']\n",
    "# test_df['Product 2'] = test_df['RAM'] * test_df['GPU VRAM']\n",
    "X_test = test_df.drop('Price', axis=1)\n",
    "y_test = test_df['Price']"
   ]
  },
  {
   "cell_type": "code",
   "execution_count": 39,
   "metadata": {},
   "outputs": [],
   "source": [
    "df = train_val_df.copy()\n",
    "test_df = loaded_df[split_index:]\n",
    "X_test = test_df.drop('Price', axis=1)\n",
    "y_test = test_df['Price']"
   ]
  },
  {
   "cell_type": "code",
   "execution_count": 40,
   "metadata": {},
   "outputs": [
    {
     "name": "stdout",
     "output_type": "stream",
     "text": [
      "Mean squared error: 125.97907982012181\n",
      "R2 Score: 0.8204951455796452\n",
      "Mean absolute error: 7.704596090127005\n"
     ]
    }
   ],
   "source": [
    "X = df.drop('Price', axis=1)\n",
    "y = df['Price']\n",
    "X_train, X_val, y_train, y_val = train_test_split(X, y, test_size=0.2,random_state=42)\n",
    "model = LinearRegression()\n",
    "model.fit(X_train, y_train)\n",
    "y_pred = model.predict(X_test)\n",
    "\n",
    "mse = mean_squared_error(y_test, y_pred)\n",
    "print(f'Mean squared error: {mse}')\n",
    "\n",
    "r2 = r2_score(y_test,y_pred)\n",
    "print(f'R2 Score: {r2}')\n",
    "\n",
    "mae = mean_absolute_error(y_test, y_pred)\n",
    "print(f'Mean absolute error: {mae}')"
   ]
  },
  {
   "cell_type": "code",
   "execution_count": null,
   "metadata": {},
   "outputs": [],
   "source": [
    "model = LinearRegression()\n",
    "mse = -cross_val_score(model,X,y,cv=5,scoring='neg_mean_squared_error').mean()\n",
    "r2 = cross_val_score(model,X,y,cv=5,scoring='r2').mean()\n",
    "mae = -cross_val_score(model,X,y,cv=5,scoring='neg_mean_absolute_error').mean()\n",
    "print(f'Mean squared error: {mse}')\n",
    "print(f'R2 Score: {r2}')\n",
    "print(f'Mean absolute error: {mae}')"
   ]
  },
  {
   "cell_type": "markdown",
   "metadata": {},
   "source": [
    "# Model Selection, Training, Evaluation"
   ]
  },
  {
   "cell_type": "code",
   "execution_count": null,
   "metadata": {},
   "outputs": [],
   "source": [
    "X = df.drop('Price', axis=1)\n",
    "y = df['Price']\n",
    "X_train, X_test, y_train, y_test = train_test_split(X, y, test_size=0.2,random_state=42)"
   ]
  },
  {
   "cell_type": "code",
   "execution_count": null,
   "metadata": {},
   "outputs": [],
   "source": [
    "model = LinearRegression()\n",
    "model.fit(X_train, y_train)\n",
    "y_pred = model.predict(X_test)\n",
    "\n",
    "mse = mean_squared_error(y_test, y_pred)\n",
    "print(f'Mean squared error: {mse}')\n",
    "\n",
    "r2 = r2_score(y_test,y_pred)\n",
    "print(f'R2 Score: {r2}')\n",
    "\n",
    "mae = mean_absolute_error(y_test, y_pred)\n",
    "print(f'Mean absolute error: {mae}')"
   ]
  },
  {
   "cell_type": "code",
   "execution_count": null,
   "metadata": {},
   "outputs": [],
   "source": [
    "def grid_search_single_axis(from_ : float,to_ : float,step : float,model,set_func : callable,\n",
    "                            X_train_,X_test_,y_train_,y_test_,result = None):\n",
    "    if (result == None):\n",
    "        result = []\n",
    "    set_func(model,from_)\n",
    "    if (from_ > to_):\n",
    "        return result\n",
    "    model.fit(X_train_,y_train_)\n",
    "    y_pred_ = model.predict(X_test_)\n",
    "    r2_ =  r2_score(y_test_,y_pred_)\n",
    "    result.append([from_,r2_])\n",
    "    from_ += step\n",
    "    return grid_search_single_axis(from_,to_,step,model,set_func,X_train_,X_test_,y_train_,y_test_,result)\n",
    "    "
   ]
  },
  {
   "cell_type": "code",
   "execution_count": null,
   "metadata": {},
   "outputs": [],
   "source": [
    "para = 1\n",
    "lasso = Ridge(alpha=para)\n",
    "def set_function(model,alpha):\n",
    "    model.alpha = alpha\n",
    "result = grid_search_single_axis(0,1,0.01,lasso,set_function,X_train,X_test,y_train,y_test)\n",
    "for step in result:\n",
    "    print('R2 : {} , Alpha : {}'.format(step[1],step[0]))"
   ]
  },
  {
   "cell_type": "code",
   "execution_count": null,
   "metadata": {},
   "outputs": [],
   "source": [
    "# scaler = StandardScaler()\n",
    "# X_train_scaled = scaler.fit_transform(X_train)\n",
    "# X_test_scaled = scaler.transform(X_test)\n",
    "para = 1\n",
    "# Lasso Regression (L1 regularization)\n",
    "lasso = Lasso(alpha=para)  # Alpha is the regularization parameter (lambda)\n",
    "lasso.fit(X_train, y_train)\n",
    "lasso_pred = lasso.predict(X_test)\n",
    "lasso_mse = mean_squared_error(y_test, lasso_pred)\n",
    "lasso_r2 = r2_score(y_test,lasso_pred)\n",
    "print(\"Lasso MSE:\", lasso_mse)\n",
    "print(\"Lasso R2:\", lasso_r2)\n",
    "\n",
    "# Ridge Regression (L2 regularization)\n",
    "ridge = Ridge(alpha=para)  # Alpha is the regularization parameter (lambda)\n",
    "ridge.fit(X_train, y_train)\n",
    "ridge_pred = ridge.predict(X_test)\n",
    "ridge_mse = mean_squared_error(y_test, ridge_pred)\n",
    "ridge_r2 = r2_score(y_test,ridge_pred)\n",
    "print(\"Ridge MSE:\", ridge_mse)\n",
    "print(\"Ridge R2:\", ridge_r2)"
   ]
  },
  {
   "cell_type": "code",
   "execution_count": null,
   "metadata": {},
   "outputs": [],
   "source": [
    "forest = RandomForestRegressor()\n",
    "forest.fit(X_train, y_train)\n",
    "\n",
    "forest.score(X_test, y_test)"
   ]
  },
  {
   "cell_type": "code",
   "execution_count": null,
   "metadata": {},
   "outputs": [],
   "source": [
    "models = {\n",
    "    'Linear Regression': LinearRegression(),\n",
    "    'Decision Tree': DecisionTreeRegressor(),\n",
    "    'Random Forest': RandomForestRegressor(random_state=45, max_samples=0.22),\n",
    "    'Support Vector Machine': SVR(),\n",
    "    'K-Nearest Neighbors': KNeighborsRegressor(),\n",
    "    'Gradient Boosting': GradientBoostingRegressor(),\n",
    "    'AdaBoost': AdaBoostRegressor(),\n",
    "    'Ridge Regression': Ridge(),\n",
    "    'Lasso Regression': Lasso(),\n",
    "    'ElasticNet Regression': ElasticNet(),\n",
    "    'XGBoost': xgb.XGBRegressor(),\n",
    "    'LightGBM': lgb.LGBMRegressor(),\n",
    "    'CatBoost': cb.CatBoostRegressor(silent=True)\n",
    "}\n",
    "\n",
    "# Train and evaluate each model\n",
    "for name, model in models.items():\n",
    "    model.fit(X_train, y_train)\n",
    "    \n",
    "    # Make predictions\n",
    "    y_train_pred = model.predict(X_train)\n",
    "    y_test_pred = model.predict(X_test)\n",
    "    \n",
    "    # Calculate mean absolute error scores\n",
    "    train_mae = mean_absolute_error(y_train, y_train_pred)\n",
    "    test_mae = mean_absolute_error(y_test, y_test_pred)\n",
    "    r2 = r2_score(y_test,y_test_pred)\n",
    "    \n",
    "    # Print the name of the model and its mean absolute error scores\n",
    "    print(f'{name}: Train MAE = {train_mae}') \n",
    "    print(f'{name}: Test MAE = {test_mae}')\n",
    "    print(f'{name}: R2 = {r2}')\n",
    "    print('***********************')"
   ]
  }
 ],
 "metadata": {
  "kernelspec": {
   "display_name": "Python 3",
   "language": "python",
   "name": "python3"
  },
  "language_info": {
   "codemirror_mode": {
    "name": "ipython",
    "version": 3
   },
   "file_extension": ".py",
   "mimetype": "text/x-python",
   "name": "python",
   "nbconvert_exporter": "python",
   "pygments_lexer": "ipython3",
   "version": "3.11.8"
  }
 },
 "nbformat": 4,
 "nbformat_minor": 2
}
