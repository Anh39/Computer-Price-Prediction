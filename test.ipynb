{
 "cells": [
  {
   "cell_type": "code",
   "execution_count": 1,
   "metadata": {},
   "outputs": [],
   "source": [
    "import folder_path\n",
    "import pandas as pd"
   ]
  },
  {
   "cell_type": "code",
   "execution_count": 2,
   "metadata": {},
   "outputs": [],
   "source": [
    "df = pd.read_csv(folder_path.output.processed_data)"
   ]
  },
  {
   "cell_type": "code",
   "execution_count": 3,
   "metadata": {},
   "outputs": [
    {
     "name": "stdout",
     "output_type": "stream",
     "text": [
      "<class 'pandas.core.frame.DataFrame'>\n",
      "RangeIndex: 911 entries, 0 to 910\n",
      "Data columns (total 20 columns):\n",
      " #   Column             Non-Null Count  Dtype  \n",
      "---  ------             --------------  -----  \n",
      " 0   Price              911 non-null    int64  \n",
      " 1   CPU Name           911 non-null    object \n",
      " 2   CPU Achitecture    911 non-null    int64  \n",
      " 3   CPU Core           911 non-null    float64\n",
      " 4   CPU Thread         911 non-null    float64\n",
      " 5   CPU Base Clock     911 non-null    float64\n",
      " 6   CPU Max Clock      911 non-null    float64\n",
      " 7   RAM                911 non-null    int64  \n",
      " 8   Memory Type        911 non-null    int64  \n",
      " 9   Max DDR Support    911 non-null    float64\n",
      " 10  Storage            911 non-null    int64  \n",
      " 11  Storage Type       911 non-null    int64  \n",
      " 12  GPU VRAM           911 non-null    float64\n",
      " 13  Display Type       911 non-null    int64  \n",
      " 14  Display Size       911 non-null    float64\n",
      " 15  Display Frequency  911 non-null    int64  \n",
      " 16  OS                 911 non-null    int64  \n",
      " 17  Warrant            911 non-null    float64\n",
      " 18  Display Width      911 non-null    int64  \n",
      " 19  Display Height     911 non-null    int64  \n",
      "dtypes: float64(8), int64(11), object(1)\n",
      "memory usage: 142.5+ KB\n"
     ]
    }
   ],
   "source": [
    "df.info()"
   ]
  }
 ],
 "metadata": {
  "kernelspec": {
   "display_name": "ml",
   "language": "python",
   "name": "python3"
  },
  "language_info": {
   "codemirror_mode": {
    "name": "ipython",
    "version": 3
   },
   "file_extension": ".py",
   "mimetype": "text/x-python",
   "name": "python",
   "nbconvert_exporter": "python",
   "pygments_lexer": "ipython3",
   "version": "3.11.8"
  }
 },
 "nbformat": 4,
 "nbformat_minor": 2
}
