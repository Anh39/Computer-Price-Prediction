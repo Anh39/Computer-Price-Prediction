{
 "cells": [
  {
   "cell_type": "code",
   "execution_count": 5,
   "metadata": {},
   "outputs": [],
   "source": [
    "import folder_path\n",
    "import pandas as pd"
   ]
  },
  {
   "cell_type": "code",
   "execution_count": 6,
   "metadata": {},
   "outputs": [],
   "source": [
    "df = pd.read_csv(folder_path.output.preprocessed_data)"
   ]
  },
  {
   "cell_type": "code",
   "execution_count": 7,
   "metadata": {},
   "outputs": [
    {
     "name": "stdout",
     "output_type": "stream",
     "text": [
      "<class 'pandas.core.frame.DataFrame'>\n",
      "RangeIndex: 387 entries, 0 to 386\n",
      "Data columns (total 20 columns):\n",
      " #   Column           Non-Null Count  Dtype  \n",
      "---  ------           --------------  -----  \n",
      " 0   Price            387 non-null    int64  \n",
      " 1   Link             387 non-null    object \n",
      " 2   CPU Name         387 non-null    object \n",
      " 3   RAM              380 non-null    object \n",
      " 4   Memory Type      322 non-null    object \n",
      " 5   Storage          368 non-null    object \n",
      " 6   Storage Type     382 non-null    object \n",
      " 7   GPU Name         116 non-null    object \n",
      " 8   GPU VRAM         116 non-null    float64\n",
      " 9   PSU              202 non-null    object \n",
      " 10  Cooler           387 non-null    object \n",
      " 11  OS               387 non-null    int64  \n",
      " 12  CPU Achitecture  387 non-null    int64  \n",
      " 13  CPU Core         387 non-null    float64\n",
      " 14  CPU Thread       387 non-null    float64\n",
      " 15  CPU Cache        387 non-null    int64  \n",
      " 16  Max DDR Support  387 non-null    float64\n",
      " 17  Base Clock       387 non-null    float64\n",
      " 18  Max Clock        387 non-null    float64\n",
      " 19  IGPU Clock       387 non-null    int64  \n",
      "dtypes: float64(6), int64(5), object(9)\n",
      "memory usage: 60.6+ KB\n"
     ]
    }
   ],
   "source": [
    "df.info()"
   ]
  }
 ],
 "metadata": {
  "kernelspec": {
   "display_name": "ml",
   "language": "python",
   "name": "python3"
  },
  "language_info": {
   "codemirror_mode": {
    "name": "ipython",
    "version": 3
   },
   "file_extension": ".py",
   "mimetype": "text/x-python",
   "name": "python",
   "nbconvert_exporter": "python",
   "pygments_lexer": "ipython3",
   "version": "3.11.8"
  }
 },
 "nbformat": 4,
 "nbformat_minor": 2
}
